{
 "cells": [
  {
   "cell_type": "markdown",
   "metadata": {},
   "source": [
    "# Video Decode Unit (VDU) Demo Example: DECODE -> FAKESINK "
   ]
  },
  {
   "cell_type": "markdown",
   "metadata": {},
   "source": [
    "# Introduction\n",
    "\n",
    "Video Decode Unit (VDU) in ZynqMP SOC is capable of decoding AVC/HEVC compressed video streams.\n",
    "\n",
    "This notebook example shows File playback usecase - where it reads compressed video and audio(optional) data from file or HTTP URL (e.g. youtube video), does decoding of video content using VDU, decoding of audio using software Gstreamer element and renders output on DP/HDMI display. \n"
   ]
  },
  {
   "cell_type": "markdown",
   "metadata": {},
   "source": [
    "# Implementation Details\n",
    "\n",
    "<img src=\"pictures/block-diagram-decode-display.png\" align=\"center\" alt=\"Drawing\" style=\"width: 600px; height: 200px\"/>\n",
    "\n",
    "### Board Setup \n",
    "1. Connect 4k DP/HDMI display to board.\n",
    "2. Connect Ethernet cable. Check Internet connectivity. It is required for downloading compressed file from web-server.\n",
    "3. Connect serial cable to monitor logs on serial console.\n",
    "4. If Board is connected to private network, then export proxy settings in /home/root/.bashrc file as below,      \n",
    "    - create/open a bashrc file using \"vi ~/.bashrc\" \n",
    "        - Insert below line to bashrc file\n",
    "            - export http_proxy=\"< private network proxy address >\"\n",
    "            - export https_proxy=\"< private network proxy address >\"\n",
    "        - Save and close bashrc file.\n",
    "\n",
    "\n",
    "\n"
   ]
  },
  {
   "cell_type": "code",
   "execution_count": 1,
   "metadata": {},
   "outputs": [
    {
     "data": {
      "text/html": [
       "<script>\n",
       "code_show=true; \n",
       "function code_toggle() {\n",
       " if (code_show){\n",
       " $('div.input').hide();\n",
       " } else {\n",
       " $('div.input').show();\n",
       " }\n",
       " code_show = !code_show\n",
       "} \n",
       "$( document ).ready(code_toggle);\n",
       "</script>\n",
       "<form action=\"javascript:code_toggle()\"><input type=\"submit\" value=\"Click here to toggle on/off the raw code.\"></form>"
      ],
      "text/plain": [
       "<IPython.core.display.HTML object>"
      ]
     },
     "execution_count": 1,
     "metadata": {},
     "output_type": "execute_result"
    }
   ],
   "source": [
    "from IPython.display import HTML\n",
    "\n",
    "HTML('''<script>\n",
    "code_show=true; \n",
    "function code_toggle() {\n",
    " if (code_show){\n",
    " $('div.input').hide();\n",
    " } else {\n",
    " $('div.input').show();\n",
    " }\n",
    " code_show = !code_show\n",
    "} \n",
    "$( document ).ready(code_toggle);\n",
    "</script>\n",
    "<form action=\"javascript:code_toggle()\"><input type=\"submit\" value=\"Click here to toggle on/off the raw code.\"></form>''')"
   ]
  },
  {
   "cell_type": "markdown",
   "metadata": {},
   "source": [
    "# Run the Demo "
   ]
  },
  {
   "cell_type": "code",
   "execution_count": 2,
   "metadata": {},
   "outputs": [],
   "source": [
    "from ipywidgets import interact\n",
    "import ipywidgets as widgets\n",
    "from common import common_vdu_demo_decode_display\n",
    "import os\n",
    "from ipywidgets import HBox, VBox, Text, Layout, HTML"
   ]
  },
  {
   "cell_type": "markdown",
   "metadata": {},
   "source": [
    "### Insert Input file path Or Youtube URL"
   ]
  },
  {
   "cell_type": "code",
   "execution_count": 3,
   "metadata": {
    "scrolled": true
   },
   "outputs": [
    {
     "data": {
      "application/vnd.jupyter.widget-view+json": {
       "model_id": "6dc3ecd3306a4cbbbbbfa14272ba689d",
       "version_major": 2,
       "version_minor": 0
      },
      "text/plain": [
       "InputSection(children=(Text(value='', description='Input File:', placeholder='Insert file path'), Text(value='…"
      ]
     },
     "metadata": {},
     "output_type": "display_data"
    }
   ],
   "source": [
    "#input_path=widgets.Text(value='',\n",
    "#    placeholder='Insert file path',\n",
    "#    description=r'Input File:',\n",
    "    #style={'description_width': 'initial'},\n",
    "#    disabled=False)\n",
    "#input_url=widgets.Text(value='',\n",
    "#    placeholder='\"Insert Youtube URL\"',\n",
    "#    description=r'<b>OR</b> Youtube URL (in quotes):',\n",
    "#    style={'description_width': 'initial'},\n",
    "#    layout=Layout(width='50%', height='30px'),\n",
    "    #style={'flex container': 'cross-end'},\n",
    "#    disabled=False)\n",
    "#display(HBox([input_path, input_url]))\n",
    "#display(HBox([input_url, input_path]))\n",
    "\n",
    "import ipywidgets as widgets\n",
    "\n",
    "class InputSection(widgets.HBox):\n",
    "    def __init__(self):\n",
    "        super().__init__()\n",
    "        \n",
    "        self.input_path = widgets.Text(value='',\n",
    "            placeholder='Insert file path',\n",
    "            description=r'Input File:',\n",
    "            disabled=False)\n",
    "        self.input_url = widgets.Text(value='',\n",
    "            placeholder='\"Insert Youtube URL\"',\n",
    "            description=r'<b>OR</b> Youtube URL (in quotes):',\n",
    "            style={'description_width': 'initial'},\n",
    "            layout=Layout(width='50%', height='30px'),\n",
    "            disabled=False)\n",
    "        \n",
    "        self.children = [self.input_path, self.input_url]\n",
    "        self.layout = widgets.Layout(border='')\n",
    "    \n",
    "    def get_input_path(self):\n",
    "        return self.input_path.value\n",
    "    \n",
    "    def get_input_url(self):\n",
    "        return self.input_url.value\n",
    "    \n",
    "# Create input section\n",
    "input_section = InputSection()\n",
    "\n",
    "# Display input section\n",
    "display(input_section)"
   ]
  },
  {
   "cell_type": "code",
   "execution_count": 4,
   "metadata": {
    "scrolled": false
   },
   "outputs": [
    {
     "data": {
      "application/vnd.jupyter.widget-view+json": {
       "model_id": "288395b7dfd34585a0ed83fc9fbdd7cb",
       "version_major": 2,
       "version_minor": 0
      },
      "text/plain": [
       "ProxySection(children=(Text(value='', description='Proxy URL:', placeholder='(optional)'),), layout=Layout(bor…"
      ]
     },
     "metadata": {},
     "output_type": "display_data"
    }
   ],
   "source": [
    "#proxy_url=widgets.Text(value='',\n",
    "#    placeholder='(optional)',\n",
    "#    description='Proxy URL:',\n",
    "    #style={'description_width': 'initial'},\n",
    "#    disabled=False)\n",
    "#proxy_url\n",
    "#HBox([proxy_url, optional])\n",
    "\n",
    "class ProxySection(widgets.HBox):\n",
    "    def __init__(self):\n",
    "        super().__init__()\n",
    "        \n",
    "        self.proxy_url = widgets.Text(value='',\n",
    "            placeholder='(optional)',\n",
    "            description='Proxy URL:',\n",
    "            disabled=False)\n",
    "        \n",
    "        self.children = [self.proxy_url]\n",
    "        self.layout = widgets.Layout(border='')\n",
    "    \n",
    "    def get_proxy_url(self):\n",
    "        return self.proxy_url.value\n",
    "    \n",
    "# Create proxy section\n",
    "proxy_section = ProxySection()\n",
    "\n",
    "# Display proxy section\n",
    "display(proxy_section)"
   ]
  },
  {
   "cell_type": "markdown",
   "metadata": {},
   "source": [
    "### Video"
   ]
  },
  {
   "cell_type": "code",
   "execution_count": 5,
   "metadata": {
    "scrolled": true
   },
   "outputs": [
    {
     "data": {
      "application/vnd.jupyter.widget-view+json": {
       "model_id": "779903e0e2354a099ab9bd39d74978d7",
       "version_major": 2,
       "version_minor": 0
      },
      "text/plain": [
       "VideoSection(children=(RadioButtons(description='Video Codec:', options=('avc', 'hevc'), style=DescriptionStyl…"
      ]
     },
     "metadata": {},
     "output_type": "display_data"
    }
   ],
   "source": [
    "import ipywidgets as widgets\n",
    "\n",
    "class VideoSection(widgets.HBox):\n",
    "    def __init__(self, codec_options=['avc', 'hevc'], sink_options={'kmssink': ['DP', 'HDMI'], 'fakevideosink': ['none']}, decoder_options=['allegrodecIP0', 'allegrodecIP1', 'allegrodecIP2', 'allegrodecIP3']):\n",
    "        \n",
    "        # Initialize parent VBox\n",
    "        super().__init__()\n",
    "        \n",
    "        \n",
    "        # Initialize codec options\n",
    "        self.codec_options = codec_options\n",
    "        self.codec_type = widgets.RadioButtons(\n",
    "            options=self.codec_options,\n",
    "            description='Video Codec:',\n",
    "            style={'description_width': 'auto', 'button_width': '10px'}\n",
    "        )\n",
    "        \n",
    "        self.codec_type.observe(self._update_codec_type, names='value')\n",
    "        self.selected_codec = self.codec_type.value\n",
    "        \n",
    "        \n",
    "        # Initialize video sink options\n",
    "        self.sink_options = sink_options\n",
    "        self.sink_type = widgets.RadioButtons(\n",
    "            options=sorted(self.sink_options.keys(), key=lambda k: len(self.sink_options[k]), reverse=True),\n",
    "            value='fakevideosink',\n",
    "            description='Video Sink:',\n",
    "            style={'description_width': 'auto', 'button_width': '10px'}\n",
    "        )\n",
    "        \n",
    "        init = self.sink_type.value\n",
    "        self.display_type = widgets.RadioButtons(\n",
    "            #options=self.sink_options[self.sink_type.value],\n",
    "            options=self.sink_options[init], # Set default value to 'none'\n",
    "            description='Display:',\n",
    "            style={'description_width': 'auto', 'button_width': '10px'}\n",
    "        )\n",
    "        \n",
    "        # Initialize stream options\n",
    "        self.decoder_options = decoder_options\n",
    "        self.decoder_instance = widgets.RadioButtons(\n",
    "            options=self.decoder_options,\n",
    "            description='Dec Instance:',\n",
    "            style={'description_width': 'auto', 'button_width': '10px'},\n",
    "        )\n",
    "        #init1 = self.stream_type.value\n",
    "        #self.stream_num = widgets.RadioButtons(\n",
    "            #options=self.stream_options[self.stream_type.value],\n",
    "         #   options=self.stream_options[init1],\n",
    "          #  description='Instance:',\n",
    "           # style={'description_width': 'auto', 'button_width': '10px'}\n",
    "        #)\n",
    "        \n",
    "        # Define widget layout\n",
    "        self.layout = widgets.Layout(border='')\n",
    "        \n",
    "        # Add widgets to VBox\n",
    "        self.children = [self.codec_type, self.sink_type, self.display_type, self.decoder_instance]\n",
    "        \n",
    "        # Attach update functions\n",
    "        self.sink_type.observe(self._update_display_options, names='value')\n",
    "        #self.stream_type.observe(self._update_stream_options, names='value')\n",
    "        \n",
    "    def _update_display_options(self, change):\n",
    "        self.display_type.options = self.sink_options[self.sink_type.value]\n",
    "        \n",
    "    #def _update_stream_options(self, change):\n",
    "        #self.stream_num.options = self.stream_options[self.stream_type.value]\n",
    "        \n",
    "    #def get_codec_type(self):\n",
    "       # return self.codec_type.value\n",
    "        \n",
    "    def _update_codec_type(self, change):\n",
    "        print(\"Inside the update codec type: value of codec type is:\", self.codec_type.value)\n",
    "        self.selected_codec = self.codec_type.value\n",
    "        print(\"Inside the update codec type: value of self.selected_codec is:\", self.selected_codec)\n",
    "        #self.selected_codec = change.new\n",
    "        \n",
    "    def get_codec_type(self):\n",
    "        print(\"Inside the get_codec_type value of self.selected_codec is:\", self.selected_codec)\n",
    "        return self.codec_type.value\n",
    "        \n",
    "        \n",
    "# Create first video section\n",
    "video1 = VideoSection()\n",
    "#video_sections = [video1]\n",
    "\n",
    "# Display first video section\n",
    "display(video1)\n",
    "\n",
    "\n",
    "\n"
   ]
  },
  {
   "cell_type": "code",
   "execution_count": 6,
   "metadata": {
    "scrolled": false
   },
   "outputs": [
    {
     "data": {
      "application/vnd.jupyter.widget-view+json": {
       "model_id": "0f2b0df84f904e87be8bc51c1e1fce93",
       "version_major": 2,
       "version_minor": 0
      },
      "text/plain": [
       "Button(button_style='success', description='Add more decoder', style=ButtonStyle())"
      ]
     },
     "metadata": {},
     "output_type": "display_data"
    },
    {
     "data": {
      "application/vnd.jupyter.widget-view+json": {
       "model_id": "06b31727ee7e4010b3addacd35a03431",
       "version_major": 2,
       "version_minor": 0
      },
      "text/plain": [
       "InputSection(children=(Text(value='', description='Input File:', placeholder='Insert file path'), Text(value='…"
      ]
     },
     "metadata": {},
     "output_type": "display_data"
    },
    {
     "data": {
      "application/vnd.jupyter.widget-view+json": {
       "model_id": "6a0a8dae86124207999b719ef8e3770c",
       "version_major": 2,
       "version_minor": 0
      },
      "text/plain": [
       "ProxySection(children=(Text(value='', description='Proxy URL:', placeholder='(optional)'),), layout=Layout(bor…"
      ]
     },
     "metadata": {},
     "output_type": "display_data"
    },
    {
     "data": {
      "application/vnd.jupyter.widget-view+json": {
       "model_id": "eff5bae1c8cf4b52989fcb11556ef36d",
       "version_major": 2,
       "version_minor": 0
      },
      "text/plain": [
       "VideoSection(children=(RadioButtons(description='Video Codec:', options=('avc', 'hevc'), style=DescriptionStyl…"
      ]
     },
     "metadata": {},
     "output_type": "display_data"
    },
    {
     "data": {
      "application/vnd.jupyter.widget-view+json": {
       "model_id": "b32b3085de3241e8a1f5f4e159f0ff50",
       "version_major": 2,
       "version_minor": 0
      },
      "text/plain": [
       "Button(button_style='success', description='Add more decoder', style=ButtonStyle())"
      ]
     },
     "metadata": {},
     "output_type": "display_data"
    }
   ],
   "source": [
    "# Add a new video section\n",
    "button = widgets.Button(description='Add more decoder', button_style='success')\n",
    "#def add_video_section(button):\n",
    "  #  video2 = VideoSection()\n",
    "   # display(video2)\n",
    "\n",
    "# Define a counter for the number of video sections\n",
    "count = 1\n",
    "\n",
    "# Initialize empty lists of input and video sections\n",
    "input_sections = [input_section]\n",
    "proxy_sections = [proxy_section]\n",
    "video_sections = [video1]\n",
    "\n",
    "\n",
    "\n",
    "# Display button section\n",
    "#display(widgets.VBox([video_container, button_widget]))\n",
    "# Define the add_video_section function with the counter\n",
    "def add_video_section(button):\n",
    "    global count\n",
    "    name = f'video{count+1}'\n",
    "    \n",
    "    # Create new instances of InputSection and VideoSection\n",
    "    input = InputSection()\n",
    "    proxy = ProxySection()\n",
    "    video = VideoSection()\n",
    "    \n",
    "    #video._dom_classes = [name]  # set class name to object name\n",
    "    #display(video)\n",
    "    count += 1\n",
    "    \n",
    "    # Add the new instances to the existing lists\n",
    "    input_sections.append(input)\n",
    "    proxy_sections.append(proxy)\n",
    "    video_sections.append(video)\n",
    "    \n",
    "    #print(\"add_video_section: count: \", count)\n",
    "    #print(\"add video_section: name:\", name)\n",
    "    \n",
    "    display(input)\n",
    "    display(proxy)\n",
    "    display(video)\n",
    "    \n",
    "    # Remove the previous button\n",
    "    button.layout.display = 'none'\n",
    "    \n",
    "    # Add a new button below the new video instance\n",
    "    new_button = widgets.Button(description='Add more decoder', button_style='success')\n",
    "    new_button.on_click(add_video_section)\n",
    "    display(new_button)\n",
    "\n",
    "\n",
    "button.on_click(add_video_section)\n",
    "display(button)\n"
   ]
  },
  {
   "cell_type": "markdown",
   "metadata": {},
   "source": [
    "### Advanced options:"
   ]
  },
  {
   "cell_type": "code",
   "execution_count": 7,
   "metadata": {},
   "outputs": [
    {
     "data": {
      "application/vnd.jupyter.widget-view+json": {
       "model_id": "ada9871a37d4438dbf5eb206a41a0772",
       "version_major": 2,
       "version_minor": 0
      },
      "text/plain": [
       "HBox(children=(Dropdown(description='Entropy Buffers Nos:', index=3, options=('2', '3', '4', '5', '6', '7', '8…"
      ]
     },
     "execution_count": 7,
     "metadata": {},
     "output_type": "execute_result"
    }
   ],
   "source": [
    "entropy_buffers=widgets.Dropdown(\n",
    "    options=['2', '3', '4', '5', '6', '7', '8', '9', '10', '11', '12', '13', '14', '15'],\n",
    "    value='5',\n",
    "    description='Entropy Buffers Nos:',\n",
    "    style={'description_width': 'initial'},\n",
    "    disabled=False,)\n",
    "show_fps=widgets.Checkbox(\n",
    "    value=False,\n",
    "    description='show-fps',\n",
    "    #style={'description_width': 'initial'},\n",
    "    disabled=False)\n",
    "loop=widgets.Checkbox(\n",
    "    value=False,\n",
    "    description='Repeat Play',\n",
    "    #style={'description_width': 'initial'},\n",
    "    disabled=False)\n",
    "HBox([entropy_buffers, show_fps, loop])"
   ]
  },
  {
   "cell_type": "code",
   "execution_count": 8,
   "metadata": {},
   "outputs": [],
   "source": [
    "from IPython.display import clear_output\n",
    "from IPython.display import Javascript\n",
    "\n",
    "def run_all(ev):\n",
    "    display(Javascript('IPython.notebook.execute_cells_below()'))\n",
    "\n",
    "def clear_op(event):\n",
    "    clear_output(wait=True)\n",
    "    return\n",
    "\n",
    "button1 = widgets.Button(\n",
    "    description='Clear Output',\n",
    "    style= {'button_color':'lightgreen'},\n",
    "    #style= {'button_color':'lightgreen', 'description_width': 'initial'},\n",
    "    layout={'width': '300px'}\n",
    ")\n",
    "button2 = widgets.Button(\n",
    "    description='',\n",
    "    style= {'button_color':'white'},\n",
    "    #style= {'button_color':'lightgreen', 'description_width': 'initial'},\n",
    "    layout={'width': '83px'},\n",
    "    disabled=True\n",
    ")\n",
    "button1.on_click(run_all)\n",
    "button1.on_click(clear_op)"
   ]
  },
  {
   "cell_type": "code",
   "execution_count": 11,
   "metadata": {
    "scrolled": true
   },
   "outputs": [
    {
     "data": {
      "application/vnd.jupyter.widget-view+json": {
       "model_id": "ed5027015a2a463b97a7fe9a784018bf",
       "version_major": 2,
       "version_minor": 0
      },
      "text/plain": [
       "HBox(children=(Button(description='click to start vdu-decode-display demo', layout=Layout(width='300px'), styl…"
      ]
     },
     "execution_count": 11,
     "metadata": {},
     "output_type": "execute_result"
    },
    {
     "name": "stdout",
     "output_type": "stream",
     "text": [
      "sh common_vdu_demo_decode_display.sh -i /home/petalinux/AIR_4Kp30_nv12.avc -c avc -o fakevideosink -z allegrodecIP0\n",
      "sh common_vdu_demo_decode_display.sh -i /home/petalinux/AIR_4Kp30_nv12.avc -c avc -o fakevideosink -z allegrodecIP0\n",
      "Process 1 output:\n",
      "pidof: invalid option -- 'x'\n",
      "BusyBox v1.35.0 () multi-call binary.\n",
      "\n",
      "Usage: pidof [NAME]...\n",
      "\n",
      "List PIDs of all processes with names that match NAMEs\n",
      "gst-launch-1.0 filesrc location=/home/petalinux/AIR_4Kp30_nv12.avc ! h264parse ! omxh264dec device=/dev/allegroDecodeIP0 ! queue max-size-bytes=0 ! fakevideosink\n",
      "Setting pipeline to PAUSED ...\n",
      "Pipeline is PREROLLING ...\n",
      "Redistribute latency...\n",
      "Redistribute latency...\n",
      "Pipeline is PREROLLED ...\n",
      "Setting pipeline to PLAYING ...\n",
      "Redistribute latency...\n",
      "New clock: GstSystemClock\n"
     ]
    }
   ],
   "source": [
    "import subprocess \n",
    "\n",
    "# Create a video section\n",
    "#video1 = VideoSection()\n",
    "\n",
    "\n",
    "# Get the selected codec option of the video section\n",
    "#codec_type = video1.get_codec_type()\n",
    "\n",
    "# Create another video section\n",
    "#video2 = VideoSection()\n",
    "\n",
    "# Get the selected codec option of the video section\n",
    "#codec_type1 = video2.get_codec_type()\n",
    "\n",
    "\n",
    "def start_demo(event):\n",
    "\n",
    "    # Assign fixed values to audio-related variables\n",
    "    audio_codec = 'none'\n",
    "    audio_sink = 'none'\n",
    "    audio_output = ''\n",
    "    \n",
    "    #clear_output(wait=True)\n",
    "    arg = [];\n",
    "    arg1 = [];\n",
    "    args2 = [];\n",
    "    args3 = [];\n",
    "    arg = common_vdu_demo_decode_display.cmd_line_args_generator(input_section.input_path.value, input_section.input_url.value, video1.codec_type.value, audio_codec, video1.display_type.value, show_fps.value, loop.value, entropy_buffers.value, proxy_section.proxy_url.value, audio_sink, audio_output, video1.sink_type.value, video1.decoder_instance.value);\n",
    "    \n",
    "    cmd1 = \"sh vdu-demo-decode-display.sh {} 2>&1\".format(arg)\n",
    "    process1 = subprocess.Popen(cmd1, shell=True, stdout=subprocess.PIPE, stderr=subprocess.STDOUT, universal_newlines=True)\n",
    "    \n",
    "\n",
    "    # Invoke the script file with the appropriate command line arguments\n",
    "    if count >= 2:\n",
    "       \n",
    "        arg1 = common_vdu_demo_decode_display.cmd_line_args_generator(input_sections[1].input_path.value, input_sections[1].input_url.value, video_sections[1].codec_type.value, audio_codec, video_sections[1].display_type.value, show_fps.value, loop.value, entropy_buffers.value, proxy_sections[1].proxy_url.value, audio_sink, audio_output, video_sections[1].sink_type.value, video_sections[1].decoder_instance.value);\n",
    "        \n",
    "        cmd2 = \"sh vdu-demo-decode-display.sh {} 2>&1\".format(arg1)\n",
    "        process2 = subprocess.Popen(cmd2, shell=True, stdout=subprocess.PIPE, stderr=subprocess.STDOUT, universal_newlines=True)\n",
    "\n",
    "\n",
    "    if count >= 3:\n",
    "        \n",
    "        arg2 = common_vdu_demo_decode_display.cmd_line_args_generator(input_sections[2].input_path.value, input_sections[2].input_url.value, video_sections[2].codec_type.value, audio_codec, video_sections[2].display_type.value, show_fps.value, loop.value, entropy_buffers.value, proxy_sections[2].proxy_url.value, audio_sink, audio_output, video_sections[2].sink_type.value, video_sections[2].decoder_instance.value);\n",
    "        \n",
    "        cmd3 = \"sh vdu-demo-decode-display.sh {} 2>&1\".format(arg2)\n",
    "        process3 = subprocess.Popen(cmd3, shell=True, stdout=subprocess.PIPE, stderr=subprocess.STDOUT, universal_newlines=True)\n",
    "    if count >= 4:\n",
    "        \n",
    "        arg3 = common_vdu_demo_decode_display.cmd_line_args_generator(input_sections[3].input_path.value, input_sections[3].input_url.value, video_sections[3].codec_type.value, audio_codec, video_sections[3].display_type.value, show_fps.value, loop.value, entropy_buffers.value, proxy_sections[3].proxy_url.value, audio_sink, audio_output, video_sections[3].sink_type.value, video_sections[3].decoder_instance.value);\n",
    "       \n",
    "        cmd4 = \"sh vdu-demo-decode-display.sh {} 2>&1\".format(arg3)\n",
    "        process4 = subprocess.Popen(cmd2, shell=True, stdout=subprocess.PIPE, stderr=subprocess.STDOUT, universal_newlines=True)\n",
    "    \n",
    "    \n",
    "    print(\"Process 1 output:\")\n",
    "    for line in process1.stdout:\n",
    "        print(line.strip())\n",
    "        \n",
    "    if count >= 2:\n",
    "        print(\"Process 2 output:\")\n",
    "        for line in process2.stdout:\n",
    "            print(line.strip())\n",
    "    if count >= 3:\n",
    "        print(\"Process 3 output:\")\n",
    "        for line in process3.stdout:\n",
    "            print(line.strip())\n",
    "    if count >= 4:\n",
    "        print(\"Process 4 output:\")\n",
    "        for line in process4.stdout:\n",
    "            print(line.strip())\n",
    "    \n",
    "    \n",
    "    return\n",
    "\n",
    "button = widgets.Button(\n",
    "    description='click to start vdu-decode-display demo',\n",
    "    style= {'button_color':'lightgreen'},\n",
    "    #style= {'button_color':'lightgreen', 'description_width': 'initial'},\n",
    "    layout={'width': '300px'}\n",
    ")\n",
    "\n",
    "button.on_click(start_demo)\n",
    "HBox([button, button2, button1])"
   ]
  },
  {
   "cell_type": "code",
   "execution_count": null,
   "metadata": {},
   "outputs": [],
   "source": []
  },
  {
   "cell_type": "markdown",
   "metadata": {},
   "source": [
    "# References\n",
    "[1] https://xilinx-wiki.atlassian.net/wiki/spaces/A/pages/18842546/Xilinx+Video+Codec+Unit\n",
    "\n",
    "[2] https://www.xilinx.com/support.html#documentation (Refer to PG252)"
   ]
  }
 ],
 "metadata": {
  "kernelspec": {
   "display_name": "Python 3 (ipykernel)",
   "language": "python",
   "name": "python3"
  },
  "language_info": {
   "codemirror_mode": {
    "name": "ipython",
    "version": 3
   },
   "file_extension": ".py",
   "mimetype": "text/x-python",
   "name": "python",
   "nbconvert_exporter": "python",
   "pygments_lexer": "ipython3",
   "version": "3.10.6"
  }
 },
 "nbformat": 4,
 "nbformat_minor": 2
}
